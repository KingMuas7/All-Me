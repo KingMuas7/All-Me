{
 "cells": [
  {
   "cell_type": "code",
   "execution_count": 9,
   "metadata": {},
   "outputs": [
    {
     "data": {
      "text/html": [
       "<script>\n",
       "code_show=true; \n",
       "function code_toggle() {\n",
       " if (code_show){\n",
       " $('div.input').hide();\n",
       " } else {\n",
       " $('div.input').show();\n",
       " }\n",
       " code_show = !code_show\n",
       "} \n",
       "$( document ).ready(code_toggle);\n",
       "</script>\n",
       "<form action=\"javascript:code_toggle()\"><input type=\"submit\" value=\"Click here to toggle on/off the raw code.\"></form>"
      ],
      "text/plain": [
       "<IPython.core.display.HTML object>"
      ]
     },
     "execution_count": 9,
     "metadata": {},
     "output_type": "execute_result"
    }
   ],
   "source": [
    "from IPython.display import HTML\n",
    "\n",
    "HTML('''<script>\n",
    "code_show=true; \n",
    "function code_toggle() {\n",
    " if (code_show){\n",
    " $('div.input').hide();\n",
    " } else {\n",
    " $('div.input').show();\n",
    " }\n",
    " code_show = !code_show\n",
    "} \n",
    "$( document ).ready(code_toggle);\n",
    "</script>\n",
    "<form action=\"javascript:code_toggle()\"><input type=\"submit\" value=\"Click here to toggle on/off the raw code.\"></form>''')"
   ]
  },
  {
   "cell_type": "markdown",
   "metadata": {},
   "source": [
    "<style>\n",
    "div.blue{\n",
    "    background-color:#e6f0ff; \n",
    "    border-radius: 5px; \n",
    "    padding: 20px;}\n",
    "</style> \n",
    "\n",
    "<style>\n",
    "div.warn {    \n",
    "    background-color: #fcf2f2;\n",
    "    border-color: #dFb5b4;\n",
    "    border-left: 5px solid #dfb5b4;\n",
    "    padding: 0.5em;\n",
    "    }\n",
    " </style>\n",
    "    \n",
    "<h1 style=\"text-align: center; color: purple;\" markdown=\"1\">Econ 320 Python: Heteroscedasticity </h1>\n",
    "<h2 style=\"text-align: center; color: purple;\" markdown=\"1\">Handout # 12 </h2>\n",
    "\n",
    " \n"
   ]
  },
  {
   "cell_type": "markdown",
   "metadata": {},
   "source": [
    "#### Package setup"
   ]
  },
  {
   "cell_type": "code",
   "execution_count": 29,
   "metadata": {},
   "outputs": [],
   "source": [
    "import wooldridge as woo\n",
    "import numpy as np \n",
    "import pandas as pd\n",
    "import seaborn as sns\n",
    "import matplotlib.pyplot as plt\n",
    "import statsmodels.formula.api as smf\n",
    "import statsmodels.stats.api as sms\n",
    "import statsmodels.api as sm\n",
    "import patsy as pt\n",
    "\n",
    "from stargazer.stargazer import Stargazer\n",
    "from IPython.core.display import HTML"
   ]
  },
  {
   "cell_type": "markdown",
   "metadata": {},
   "source": [
    "# Heteroscedasticity\n",
    "\n",
    "The homoscedasticity assumptions require that the variance of the error terms is unrelated to the regressors, i.e. \n",
    "\n",
    "$$Var(u|x_1, ..., x_k)=\\sigma^2.$$ \n",
    "\n",
    "If homoscedasticity is violated, the standard errors are invalid and all inferences from t, F and other tests based on them are unreliable. In that case, we are facing heteroscedasticity in the standard errors: the circumstance in which the variability of the standard errors is unequal across the range of values of the predicted value of the dependent variable.\n",
    "\n",
    "## Heteroscedasticity-Robust Inference\n",
    "\n",
    "\n",
    "As you learned in class you need to modify the standard errors to correct for heteroscedasticity. This is having \"heteroscedasticity-robust standard errors.\" \n",
    "\n",
    "In Python, we can do this using the `statsmodels` package. Using the  argument `cov_type` in the method `.fit()` we can obtain regression results that produced several refined versions of the white formula presented in your book. (Wooldridge, 2019). \n",
    "\n",
    "Let's say that the results from your regression are stored in the object *reg.*, then the variance- covariance matrix can be calculated using \n",
    "\n",
    "* **reg.fit(cov_type='nonrobust')** or **reg.fit()** for the default homoscedasticy-based standard errors. \n",
    "* **reg.fit(cov_type='HC0')**  for the classical version of White's robust varinace-covariance matrix by Wooldridge (2019, Equation 8.4 in Section 8,2)\n",
    "* **reg.fit(cov_type='HC1')**  for the classical version of White's robust varinace-covariance matrix corrected by degrees of freedom.  \n",
    "* **reg.fit(cov_type='HC2')**  for a version with small sample correction. This isndefault behavious of Stata. \n",
    "* **reg.fit(cov_type='HC3')**  for the refined version of version White's robust variance- covariance matrix. \n",
    "\n",
    "### Example with GPA data from wooldridge\n",
    "\n",
    "For the spring semester run the regression \n",
    "\n",
    "$$ Cumulative GPA = \\beta_0 + \\beta_1SAT + \\beta_2HSpercentile + \\beta_3Totalhours + \\beta_4 female + \\beta_5 black + \\beta_6 white $$\n"
   ]
  },
  {
   "cell_type": "code",
   "execution_count": 24,
   "metadata": {},
   "outputs": [],
   "source": [
    "gpa3 = woo.dataWoo('gpa3')\n",
    "\n",
    "# define regression model:\n",
    "reg = smf.ols(formula='cumgpa ~ sat + hsperc + tothrs + female + black + white',\n",
    "              data=gpa3, subset=(gpa3['spring'] == 1))\n",
    "\n",
    "# estimate default model (only for spring data):\n",
    "results_default = reg.fit()\n"
   ]
  },
  {
   "cell_type": "code",
   "execution_count": 25,
   "metadata": {},
   "outputs": [],
   "source": [
    "# estimate model with White SE (only for spring data):\n",
    "results_white = reg.fit(cov_type='HC0')\n",
    "\n",
    "# estimate model with refined White SE (only for spring data):\n",
    "results_refined = reg.fit(cov_type='HC3')\n",
    "\n"
   ]
  },
  {
   "cell_type": "markdown",
   "metadata": {},
   "source": [
    "## Inference \n",
    "### T-test  another way of doing it\n",
    "\n",
    "in this example we are going to test $H_0: \\beta_4 =0 $ if the coefficient associated with female variables is statistically significant. We learned a few ways of doing this in the inference chapter and we also know that the resulst table gives us the answer. but here is another quick way. We are going to do the test for the results assuming homoskedasticity and assuming heteroskedasticity. ( Yes it can also be written heteroscedasticity)\n",
    "\n",
    "Once you define the hypothesis you can use the function `t_test()` to test for the significance of your results see below and compare the results. The coefficnets remain the same, the standard errors change, but in this case we still reject the null hypothesis. "
   ]
  },
  {
   "cell_type": "code",
   "execution_count": 26,
   "metadata": {},
   "outputs": [
    {
     "name": "stdout",
     "output_type": "stream",
     "text": [
      "                             Test for Constraints                             \n",
      "==============================================================================\n",
      "                 coef    std err          t      P>|t|      [0.025      0.975]\n",
      "------------------------------------------------------------------------------\n",
      "c0             0.3034      0.059      5.141      0.000       0.187       0.420\n",
      "==============================================================================\n",
      "                             Test for Constraints                             \n",
      "==============================================================================\n",
      "                 coef    std err          z      P>|z|      [0.025      0.975]\n",
      "------------------------------------------------------------------------------\n",
      "c0             0.3034      0.060      5.054      0.000       0.186       0.421\n",
      "==============================================================================\n"
     ]
    }
   ],
   "source": [
    "H0 = 'female = 0'\n",
    "t_test = results_default.t_test(H0) # Assuming Homoskedasticity\n",
    "print(t_test)\n",
    "t_test = results_refined.t_test(H0) # Assuming Heteroskedasticity\n",
    "print(t_test)"
   ]
  },
  {
   "cell_type": "code",
   "execution_count": 27,
   "metadata": {},
   "outputs": [
    {
     "data": {
      "text/html": [
       "<table style=\"text-align:center\"><tr><td colspan=\"4\" style=\"border-bottom: 1px solid black\"></td></tr><tr><td style=\"text-align:left\"></td><td colspan=\"3\"><em>Dependent variable:cumgpa</em></td></tr><tr><td style=\"text-align:left\"></td><tr><td style=\"text-align:left\"></td><td>(1)</td><td>(2)</td><td>(3)</td></tr><tr><td colspan=\"4\" style=\"border-bottom: 1px solid black\"></td></tr><tr><td style=\"text-align:left\">Intercept</td><td>1.470<sup>***</sup></td><td>1.470<sup>***</sup></td><td>1.470<sup>***</sup></td></tr><tr><td style=\"text-align:left\"></td><td>(0.230)</td><td>(0.219)</td><td>(0.229)</td></tr><tr><td style=\"text-align:left\">black</td><td>-0.128<sup></sup></td><td>-0.128<sup></sup></td><td>-0.128<sup></sup></td></tr><tr><td style=\"text-align:left\"></td><td>(0.147)</td><td>(0.118)</td><td>(0.128)</td></tr><tr><td style=\"text-align:left\">female</td><td>0.303<sup>***</sup></td><td>0.303<sup>***</sup></td><td>0.303<sup>***</sup></td></tr><tr><td style=\"text-align:left\"></td><td>(0.059)</td><td>(0.059)</td><td>(0.060)</td></tr><tr><td style=\"text-align:left\">hsperc</td><td>-0.009<sup>***</sup></td><td>-0.009<sup>***</sup></td><td>-0.009<sup>***</sup></td></tr><tr><td style=\"text-align:left\"></td><td>(0.001)</td><td>(0.001)</td><td>(0.001)</td></tr><tr><td style=\"text-align:left\">sat</td><td>0.001<sup>***</sup></td><td>0.001<sup>***</sup></td><td>0.001<sup>***</sup></td></tr><tr><td style=\"text-align:left\"></td><td>(0.000)</td><td>(0.000)</td><td>(0.000)</td></tr><tr><td style=\"text-align:left\">tothrs</td><td>0.003<sup>***</sup></td><td>0.003<sup>***</sup></td><td>0.003<sup>***</sup></td></tr><tr><td style=\"text-align:left\"></td><td>(0.001)</td><td>(0.001)</td><td>(0.001)</td></tr><tr><td style=\"text-align:left\">white</td><td>-0.059<sup></sup></td><td>-0.059<sup></sup></td><td>-0.059<sup></sup></td></tr><tr><td style=\"text-align:left\"></td><td>(0.141)</td><td>(0.110)</td><td>(0.120)</td></tr><td colspan=\"4\" style=\"border-bottom: 1px solid black\"></td></tr><tr><td style=\"text-align: left\">Observations</td><td>366</td><td>366</td><td>366</td></tr><tr><td style=\"text-align: left\">R<sup>2</sup></td><td>0.401</td><td>0.401</td><td>0.401</td></tr><tr><td style=\"text-align: left\">Adjusted R<sup>2</sup></td><td>0.391</td><td>0.391</td><td>0.391</td></tr><tr><td style=\"text-align: left\">Residual Std. Error</td><td>0.469 (df=359)</td><td>0.469 (df=359)</td><td>0.469 (df=359)</td></tr><tr><td style=\"text-align: left\">F Statistic</td><td>39.982<sup>***</sup> (df=6; 359)</td><td>40.064<sup>***</sup> (df=6; 359)</td><td>38.284<sup>***</sup> (df=6; 359)</td></tr><tr><td colspan=\"4\" style=\"border-bottom: 1px solid black\"></td></tr><tr><td style=\"text-align: left\">Note:</td>\n",
       " <td colspan=\"3\" style=\"text-align: right\">\n",
       "  <sup>*</sup>p&lt;0.1;\n",
       "  <sup>**</sup>p&lt;0.05;\n",
       "  <sup>***</sup>p&lt;0.01\n",
       " </td></tr></table>"
      ],
      "text/plain": [
       "<IPython.core.display.HTML object>"
      ]
     },
     "execution_count": 27,
     "metadata": {},
     "output_type": "execute_result"
    }
   ],
   "source": [
    "# put all results in stargazer table and \n",
    "models = Stargazer([results_default, results_white, results_refined])\n",
    "#models.covariate_order(['Intercept','female' , 'educ' , 'exper', 'tenure', 'married',])\n",
    "HTML(models.render_html())"
   ]
  },
  {
   "cell_type": "markdown",
   "metadata": {},
   "source": [
    "### The F- test \n",
    "\n",
    "For the joint significance of all the coefficients you can check results for the F test on the regression table or  stargazer table. \n",
    "\n",
    "For other joint hypothesis like \n",
    "\n",
    "$$H_0: \\beta_5 = 0 \\: \\&  \\: \\beta_6=0$$\n",
    "\n",
    "See examples below. \n",
    " "
   ]
  },
  {
   "cell_type": "code",
   "execution_count": 31,
   "metadata": {
    "scrolled": true
   },
   "outputs": [
    {
     "name": "stdout",
     "output_type": "stream",
     "text": [
      "fstat_default: 0.6796041956073353\n",
      "\n",
      "fpval_default: 0.5074683622584049\n",
      "\n",
      "fstat_hc3: 0.6724692957656578\n",
      "\n",
      "fpval_hc3: 0.5110883633440992\n",
      "\n",
      "fstat_hc0: 0.7477969818036153\n",
      "\n",
      "fpval_hc0: 0.4741442714738484\n",
      "\n"
     ]
    }
   ],
   "source": [
    "# definition of model and hypotheses:\n",
    "reg = smf.ols(formula='cumgpa ~ sat + hsperc + tothrs + female + black + white',\n",
    "              data=gpa3, subset=(gpa3['spring'] == 1))\n",
    "hypotheses = ['black = 0', 'white = 0']\n",
    "\n",
    "# F-Tests using different variance-covariance formulas:\n",
    "# ususal VCOV:\n",
    "results_default = reg.fit()\n",
    "ftest_default = results_default.f_test(hypotheses)\n",
    "fstat_default = ftest_default.statistic[0][0]\n",
    "fpval_default = ftest_default.pvalue\n",
    "print(f'fstat_default: {fstat_default}\\n')\n",
    "print(f'fpval_default: {fpval_default}\\n')\n",
    "\n",
    "# refined White VCOV:\n",
    "results_hc3 = reg.fit(cov_type='HC3')\n",
    "ftest_hc3 = results_hc3.f_test(hypotheses)\n",
    "fstat_hc3 = ftest_hc3.statistic[0][0]\n",
    "fpval_hc3 = ftest_hc3.pvalue\n",
    "print(f'fstat_hc3: {fstat_hc3}\\n')\n",
    "print(f'fpval_hc3: {fpval_hc3}\\n')\n",
    "\n",
    "# classical White VCOV:\n",
    "results_hc0 = reg.fit(cov_type='HC0')\n",
    "ftest_hc0 = results_hc0.f_test(hypotheses)\n",
    "fstat_hc0 = ftest_hc0.statistic[0][0]\n",
    "fpval_hc0 = ftest_hc0.pvalue\n",
    "print(f'fstat_hc0: {fstat_hc0}\\n')\n",
    "print(f'fpval_hc0: {fpval_hc0}\\n')"
   ]
  },
  {
   "cell_type": "markdown",
   "metadata": {},
   "source": [
    "## Heteroskedasticity test\n",
    "\n",
    "The null hypothesis for this tests is that the homoscesdasticity assumption is true. Meaning that the variance of the error term should be constant. $$ H_0: E(u|X)=\\Phi^2$$\n",
    "\n",
    "Breush-Pagan test (BP test) for heteroscedasticity is easy to implement with basic OLS routines. \n",
    "\n",
    " 1. Run the resgression $y = \\beta_0 + \\beta_1x_1 + \\beta_2x_2 + \\beta_2x_2 + ... + \\beta_kx_k$\n",
    " 2. Obtain the residuals $\\hat{u}$\n",
    " 3. Regress $\\hat{u}^2= \\delta_0 + \\delta_1x_1 + \\delta_2x_2 + \\delta_2x_2 + ... + \\delta_kx_k = e$  \n",
    " 4. Test for joint significance of all the independent variables. The F test. This will give you an LM statictic  that is aproximatelly distributed $\\chi^2$\n",
    " \n",
    "The LM version of the BP test is very convinient to use with the **statsmodels** function **stats.diagnostic.het_breuschpagan** It can be used directly. \n",
    "\n",
    "We can also use the *bptest* command to do the calculations of the LM version of the test."
   ]
  },
  {
   "cell_type": "code",
   "execution_count": 32,
   "metadata": {},
   "outputs": [
    {
     "data": {
      "text/html": [
       "<table class=\"simpletable\">\n",
       "<caption>OLS Regression Results</caption>\n",
       "<tr>\n",
       "  <th>Dep. Variable:</th>          <td>price</td>      <th>  R-squared:         </th> <td>   0.672</td>\n",
       "</tr>\n",
       "<tr>\n",
       "  <th>Model:</th>                   <td>OLS</td>       <th>  Adj. R-squared:    </th> <td>   0.661</td>\n",
       "</tr>\n",
       "<tr>\n",
       "  <th>Method:</th>             <td>Least Squares</td>  <th>  F-statistic:       </th> <td>   57.46</td>\n",
       "</tr>\n",
       "<tr>\n",
       "  <th>Date:</th>             <td>Fri, 19 Nov 2021</td> <th>  Prob (F-statistic):</th> <td>2.70e-20</td>\n",
       "</tr>\n",
       "<tr>\n",
       "  <th>Time:</th>                 <td>12:08:58</td>     <th>  Log-Likelihood:    </th> <td> -482.88</td>\n",
       "</tr>\n",
       "<tr>\n",
       "  <th>No. Observations:</th>      <td>    88</td>      <th>  AIC:               </th> <td>   973.8</td>\n",
       "</tr>\n",
       "<tr>\n",
       "  <th>Df Residuals:</th>          <td>    84</td>      <th>  BIC:               </th> <td>   983.7</td>\n",
       "</tr>\n",
       "<tr>\n",
       "  <th>Df Model:</th>              <td>     3</td>      <th>                     </th>     <td> </td>   \n",
       "</tr>\n",
       "<tr>\n",
       "  <th>Covariance Type:</th>      <td>nonrobust</td>    <th>                     </th>     <td> </td>   \n",
       "</tr>\n",
       "</table>\n",
       "<table class=\"simpletable\">\n",
       "<tr>\n",
       "      <td></td>         <th>coef</th>     <th>std err</th>      <th>t</th>      <th>P>|t|</th>  <th>[0.025</th>    <th>0.975]</th>  \n",
       "</tr>\n",
       "<tr>\n",
       "  <th>Intercept</th> <td>  -21.7703</td> <td>   29.475</td> <td>   -0.739</td> <td> 0.462</td> <td>  -80.385</td> <td>   36.844</td>\n",
       "</tr>\n",
       "<tr>\n",
       "  <th>lotsize</th>   <td>    0.0021</td> <td>    0.001</td> <td>    3.220</td> <td> 0.002</td> <td>    0.001</td> <td>    0.003</td>\n",
       "</tr>\n",
       "<tr>\n",
       "  <th>sqrft</th>     <td>    0.1228</td> <td>    0.013</td> <td>    9.275</td> <td> 0.000</td> <td>    0.096</td> <td>    0.149</td>\n",
       "</tr>\n",
       "<tr>\n",
       "  <th>bdrms</th>     <td>   13.8525</td> <td>    9.010</td> <td>    1.537</td> <td> 0.128</td> <td>   -4.065</td> <td>   31.770</td>\n",
       "</tr>\n",
       "</table>\n",
       "<table class=\"simpletable\">\n",
       "<tr>\n",
       "  <th>Omnibus:</th>       <td>20.398</td> <th>  Durbin-Watson:     </th> <td>   2.110</td>\n",
       "</tr>\n",
       "<tr>\n",
       "  <th>Prob(Omnibus):</th> <td> 0.000</td> <th>  Jarque-Bera (JB):  </th> <td>  32.278</td>\n",
       "</tr>\n",
       "<tr>\n",
       "  <th>Skew:</th>          <td> 0.961</td> <th>  Prob(JB):          </th> <td>9.79e-08</td>\n",
       "</tr>\n",
       "<tr>\n",
       "  <th>Kurtosis:</th>      <td> 5.261</td> <th>  Cond. No.          </th> <td>6.41e+04</td>\n",
       "</tr>\n",
       "</table><br/><br/>Notes:<br/>[1] Standard Errors assume that the covariance matrix of the errors is correctly specified.<br/>[2] The condition number is large, 6.41e+04. This might indicate that there are<br/>strong multicollinearity or other numerical problems."
      ],
      "text/plain": [
       "<class 'statsmodels.iolib.summary.Summary'>\n",
       "\"\"\"\n",
       "                            OLS Regression Results                            \n",
       "==============================================================================\n",
       "Dep. Variable:                  price   R-squared:                       0.672\n",
       "Model:                            OLS   Adj. R-squared:                  0.661\n",
       "Method:                 Least Squares   F-statistic:                     57.46\n",
       "Date:                Fri, 19 Nov 2021   Prob (F-statistic):           2.70e-20\n",
       "Time:                        12:08:58   Log-Likelihood:                -482.88\n",
       "No. Observations:                  88   AIC:                             973.8\n",
       "Df Residuals:                      84   BIC:                             983.7\n",
       "Df Model:                           3                                         \n",
       "Covariance Type:            nonrobust                                         \n",
       "==============================================================================\n",
       "                 coef    std err          t      P>|t|      [0.025      0.975]\n",
       "------------------------------------------------------------------------------\n",
       "Intercept    -21.7703     29.475     -0.739      0.462     -80.385      36.844\n",
       "lotsize        0.0021      0.001      3.220      0.002       0.001       0.003\n",
       "sqrft          0.1228      0.013      9.275      0.000       0.096       0.149\n",
       "bdrms         13.8525      9.010      1.537      0.128      -4.065      31.770\n",
       "==============================================================================\n",
       "Omnibus:                       20.398   Durbin-Watson:                   2.110\n",
       "Prob(Omnibus):                  0.000   Jarque-Bera (JB):               32.278\n",
       "Skew:                           0.961   Prob(JB):                     9.79e-08\n",
       "Kurtosis:                       5.261   Cond. No.                     6.41e+04\n",
       "==============================================================================\n",
       "\n",
       "Notes:\n",
       "[1] Standard Errors assume that the covariance matrix of the errors is correctly specified.\n",
       "[2] The condition number is large, 6.41e+04. This might indicate that there are\n",
       "strong multicollinearity or other numerical problems.\n",
       "\"\"\""
      ]
     },
     "execution_count": 32,
     "metadata": {},
     "output_type": "execute_result"
    }
   ],
   "source": [
    "hprice1 = woo.dataWoo('hprice1')\n",
    "\n",
    "# estimate model:\n",
    "results=smf.ols(\"price~lotsize+sqrft+bdrms\", data=hprice1).fit()\n",
    "results.summary()"
   ]
  },
  {
   "cell_type": "code",
   "execution_count": 34,
   "metadata": {},
   "outputs": [
    {
     "data": {
      "text/html": [
       "<div>\n",
       "<style scoped>\n",
       "    .dataframe tbody tr th:only-of-type {\n",
       "        vertical-align: middle;\n",
       "    }\n",
       "\n",
       "    .dataframe tbody tr th {\n",
       "        vertical-align: top;\n",
       "    }\n",
       "\n",
       "    .dataframe thead th {\n",
       "        text-align: right;\n",
       "    }\n",
       "</style>\n",
       "<table border=\"1\" class=\"dataframe\">\n",
       "  <thead>\n",
       "    <tr style=\"text-align: right;\">\n",
       "      <th></th>\n",
       "      <th>0</th>\n",
       "      <th>1</th>\n",
       "    </tr>\n",
       "  </thead>\n",
       "  <tbody>\n",
       "    <tr>\n",
       "      <th>0</th>\n",
       "      <td>Lagrange Multiplier Statistic</td>\n",
       "      <td>14.092386</td>\n",
       "    </tr>\n",
       "    <tr>\n",
       "      <th>1</th>\n",
       "      <td>P-Value</td>\n",
       "      <td>0.002782</td>\n",
       "    </tr>\n",
       "    <tr>\n",
       "      <th>2</th>\n",
       "      <td>F-Value</td>\n",
       "      <td>5.338919</td>\n",
       "    </tr>\n",
       "    <tr>\n",
       "      <th>3</th>\n",
       "      <td>F P-Value</td>\n",
       "      <td>0.002048</td>\n",
       "    </tr>\n",
       "  </tbody>\n",
       "</table>\n",
       "</div>"
      ],
      "text/plain": [
       "                               0          1\n",
       "0  Lagrange Multiplier Statistic  14.092386\n",
       "1                        P-Value   0.002782\n",
       "2                        F-Value   5.338919\n",
       "3                      F P-Value   0.002048"
      ]
     },
     "execution_count": 34,
     "metadata": {},
     "output_type": "execute_result"
    }
   ],
   "source": [
    "# automatic BP test (LM version):\n",
    "\n",
    "from statsmodels.compat import lzip\n",
    "test = sms.het_breuschpagan(results.resid, results.model.exog)\n",
    "name = ['Lagrange Multiplier Statistic', 'P-Value', 'F-Value', 'F P-Value']\n",
    "pd.DataFrame(lzip(name, test))"
   ]
  },
  {
   "cell_type": "code",
   "execution_count": 35,
   "metadata": {},
   "outputs": [
    {
     "data": {
      "text/plain": [
       "0.0020477444209360787"
      ]
     },
     "execution_count": 35,
     "metadata": {},
     "output_type": "execute_result"
    }
   ],
   "source": [
    "# Manual regression of squared residuals \n",
    "smf.ols(\"np.power(results.resid,2) ~ lotsize+sqrft+bdrms\", data=hprice1).fit().f_pvalue"
   ]
  },
  {
   "cell_type": "markdown",
   "metadata": {},
   "source": [
    "#### The White test \n",
    "\n",
    "This test is a variant of the BP test where we regress the residuals on the fitted values of $\\hat{y}$ and $\\hat{y}^2$\n",
    "\n",
    "The example below estimates a model of housing prices and tests for heteroscedasticity in the standard errors. In the two cases below, both tests do not reject the null hypotesis at conventionally significant levels. \n",
    "> Look at the p values. "
   ]
  },
  {
   "cell_type": "code",
   "execution_count": 38,
   "metadata": {},
   "outputs": [
    {
     "name": "stdout",
     "output_type": "stream",
     "text": [
      "B-P Test\n"
     ]
    },
    {
     "data": {
      "text/html": [
       "<div>\n",
       "<style scoped>\n",
       "    .dataframe tbody tr th:only-of-type {\n",
       "        vertical-align: middle;\n",
       "    }\n",
       "\n",
       "    .dataframe tbody tr th {\n",
       "        vertical-align: top;\n",
       "    }\n",
       "\n",
       "    .dataframe thead th {\n",
       "        text-align: right;\n",
       "    }\n",
       "</style>\n",
       "<table border=\"1\" class=\"dataframe\">\n",
       "  <thead>\n",
       "    <tr style=\"text-align: right;\">\n",
       "      <th></th>\n",
       "      <th>0</th>\n",
       "      <th>1</th>\n",
       "    </tr>\n",
       "  </thead>\n",
       "  <tbody>\n",
       "    <tr>\n",
       "      <th>0</th>\n",
       "      <td>LM Statistic</td>\n",
       "      <td>4.223246</td>\n",
       "    </tr>\n",
       "    <tr>\n",
       "      <th>1</th>\n",
       "      <td>LM-Test p-value</td>\n",
       "      <td>0.238345</td>\n",
       "    </tr>\n",
       "    <tr>\n",
       "      <th>2</th>\n",
       "      <td>F-Statistic</td>\n",
       "      <td>1.411500</td>\n",
       "    </tr>\n",
       "    <tr>\n",
       "      <th>3</th>\n",
       "      <td>F-Test p-value</td>\n",
       "      <td>0.245146</td>\n",
       "    </tr>\n",
       "  </tbody>\n",
       "</table>\n",
       "</div>"
      ],
      "text/plain": [
       "                 0         1\n",
       "0     LM Statistic  4.223246\n",
       "1  LM-Test p-value  0.238345\n",
       "2      F-Statistic  1.411500\n",
       "3   F-Test p-value  0.245146"
      ]
     },
     "metadata": {},
     "output_type": "display_data"
    },
    {
     "name": "stdout",
     "output_type": "stream",
     "text": [
      "White Test (version 1)\n"
     ]
    },
    {
     "data": {
      "text/html": [
       "<div>\n",
       "<style scoped>\n",
       "    .dataframe tbody tr th:only-of-type {\n",
       "        vertical-align: middle;\n",
       "    }\n",
       "\n",
       "    .dataframe tbody tr th {\n",
       "        vertical-align: top;\n",
       "    }\n",
       "\n",
       "    .dataframe thead th {\n",
       "        text-align: right;\n",
       "    }\n",
       "</style>\n",
       "<table border=\"1\" class=\"dataframe\">\n",
       "  <thead>\n",
       "    <tr style=\"text-align: right;\">\n",
       "      <th></th>\n",
       "      <th>0</th>\n",
       "      <th>1</th>\n",
       "    </tr>\n",
       "  </thead>\n",
       "  <tbody>\n",
       "    <tr>\n",
       "      <th>0</th>\n",
       "      <td>LM Statistic</td>\n",
       "      <td>9.549452</td>\n",
       "    </tr>\n",
       "    <tr>\n",
       "      <th>1</th>\n",
       "      <td>LM-Test p-value</td>\n",
       "      <td>0.388174</td>\n",
       "    </tr>\n",
       "    <tr>\n",
       "      <th>2</th>\n",
       "      <td>F-Statistic</td>\n",
       "      <td>1.054957</td>\n",
       "    </tr>\n",
       "    <tr>\n",
       "      <th>3</th>\n",
       "      <td>F-Test p-value</td>\n",
       "      <td>0.405312</td>\n",
       "    </tr>\n",
       "  </tbody>\n",
       "</table>\n",
       "</div>"
      ],
      "text/plain": [
       "                 0         1\n",
       "0     LM Statistic  9.549452\n",
       "1  LM-Test p-value  0.388174\n",
       "2      F-Statistic  1.054957\n",
       "3   F-Test p-value  0.405312"
      ]
     },
     "metadata": {},
     "output_type": "display_data"
    },
    {
     "name": "stdout",
     "output_type": "stream",
     "text": [
      "White Test (Version 2)\n"
     ]
    },
    {
     "data": {
      "text/html": [
       "<div>\n",
       "<style scoped>\n",
       "    .dataframe tbody tr th:only-of-type {\n",
       "        vertical-align: middle;\n",
       "    }\n",
       "\n",
       "    .dataframe tbody tr th {\n",
       "        vertical-align: top;\n",
       "    }\n",
       "\n",
       "    .dataframe thead th {\n",
       "        text-align: right;\n",
       "    }\n",
       "</style>\n",
       "<table border=\"1\" class=\"dataframe\">\n",
       "  <thead>\n",
       "    <tr style=\"text-align: right;\">\n",
       "      <th></th>\n",
       "      <th>0</th>\n",
       "      <th>1</th>\n",
       "    </tr>\n",
       "  </thead>\n",
       "  <tbody>\n",
       "    <tr>\n",
       "      <th>0</th>\n",
       "      <td>LM Statistic</td>\n",
       "      <td>3.447287</td>\n",
       "    </tr>\n",
       "    <tr>\n",
       "      <th>1</th>\n",
       "      <td>LM-Test p-value</td>\n",
       "      <td>0.178415</td>\n",
       "    </tr>\n",
       "    <tr>\n",
       "      <th>2</th>\n",
       "      <td>F-Statistic</td>\n",
       "      <td>1.732761</td>\n",
       "    </tr>\n",
       "    <tr>\n",
       "      <th>3</th>\n",
       "      <td>F-Test p-value</td>\n",
       "      <td>0.182982</td>\n",
       "    </tr>\n",
       "  </tbody>\n",
       "</table>\n",
       "</div>"
      ],
      "text/plain": [
       "                 0         1\n",
       "0     LM Statistic  3.447287\n",
       "1  LM-Test p-value  0.178415\n",
       "2      F-Statistic  1.732761\n",
       "3   F-Test p-value  0.182982"
      ]
     },
     "metadata": {},
     "output_type": "display_data"
    }
   ],
   "source": [
    "from statsmodels.compat import lzip\n",
    "\n",
    "dato = woo.dataWoo('hprice1')\n",
    "results=smf.ols(\"np.log(price)~np.log(lotsize)+np.log(sqrft)+bdrms\", data=hprice1).fit()\n",
    "\n",
    "# BP test\n",
    "test = sms.het_breuschpagan(results.resid, results.model.exog)\n",
    "labels = ['LM Statistic', 'LM-Test p-value', 'F-Statistic', 'F-Test p-value']\n",
    "print('B-P Test')\n",
    "display(pd.DataFrame(lzip(labels,test)))\n",
    "\n",
    "\n",
    "# White test standard version 1 \n",
    "result_white_predictions = sms.het_white(results.resid, results.model.exog)\n",
    "print('White Test (version 1)')\n",
    "display(pd.DataFrame(zip(labels, result_white_predictions)))\n",
    "\n",
    "# White test version 2 \n",
    "# create the data with \n",
    "X_wh = pd.DataFrame({'const':1, 'fitted_reg':results.fittedvalues, 'fitted_reg_sq': results.fittedvalues**2})\n",
    "result_white_predictions = sms.het_breuschpagan(results.resid, X_wh)\n",
    "print('White Test (Version 2)')\n",
    "# lzip or zip the output array into a datafram for a nice looking table.\n",
    "display(pd.DataFrame(lzip(labels,result_white_predictions)))\n",
    "\n"
   ]
  },
  {
   "cell_type": "markdown",
   "metadata": {},
   "source": [
    "## Computer exercises \n",
    "\n",
    "### 1 \n",
    "Run the model for the `sleep75` data set as appears in the book and test if the variance depends on the gender variable. "
   ]
  },
  {
   "cell_type": "code",
   "execution_count": 39,
   "metadata": {},
   "outputs": [
    {
     "data": {
      "text/html": [
       "<table class=\"simpletable\">\n",
       "<caption>OLS Regression Results</caption>\n",
       "<tr>\n",
       "  <th>Dep. Variable:</th>    <td>I(regc1.resid ** 2)</td> <th>  R-squared:         </th> <td>   0.002</td> \n",
       "</tr>\n",
       "<tr>\n",
       "  <th>Model:</th>                    <td>OLS</td>         <th>  Adj. R-squared:    </th> <td>   0.000</td> \n",
       "</tr>\n",
       "<tr>\n",
       "  <th>Method:</th>              <td>Least Squares</td>    <th>  F-statistic:       </th> <td>   1.117</td> \n",
       "</tr>\n",
       "<tr>\n",
       "  <th>Date:</th>              <td>Fri, 19 Nov 2021</td>   <th>  Prob (F-statistic):</th>  <td> 0.291</td>  \n",
       "</tr>\n",
       "<tr>\n",
       "  <th>Time:</th>                  <td>12:20:39</td>       <th>  Log-Likelihood:    </th> <td> -10032.</td> \n",
       "</tr>\n",
       "<tr>\n",
       "  <th>No. Observations:</th>       <td>   706</td>        <th>  AIC:               </th> <td>2.007e+04</td>\n",
       "</tr>\n",
       "<tr>\n",
       "  <th>Df Residuals:</th>           <td>   704</td>        <th>  BIC:               </th> <td>2.008e+04</td>\n",
       "</tr>\n",
       "<tr>\n",
       "  <th>Df Model:</th>               <td>     1</td>        <th>                     </th>     <td> </td>    \n",
       "</tr>\n",
       "<tr>\n",
       "  <th>Covariance Type:</th>       <td>nonrobust</td>      <th>                     </th>     <td> </td>    \n",
       "</tr>\n",
       "</table>\n",
       "<table class=\"simpletable\">\n",
       "<tr>\n",
       "      <td></td>         <th>coef</th>     <th>std err</th>      <th>t</th>      <th>P>|t|</th>  <th>[0.025</th>    <th>0.975]</th>  \n",
       "</tr>\n",
       "<tr>\n",
       "  <th>Intercept</th> <td> 1.894e+05</td> <td> 2.05e+04</td> <td>    9.216</td> <td> 0.000</td> <td> 1.49e+05</td> <td>  2.3e+05</td>\n",
       "</tr>\n",
       "<tr>\n",
       "  <th>male</th>      <td>-2.885e+04</td> <td> 2.73e+04</td> <td>   -1.057</td> <td> 0.291</td> <td>-8.24e+04</td> <td> 2.47e+04</td>\n",
       "</tr>\n",
       "</table>\n",
       "<table class=\"simpletable\">\n",
       "<tr>\n",
       "  <th>Omnibus:</th>       <td>982.035</td> <th>  Durbin-Watson:     </th>  <td>   2.038</td> \n",
       "</tr>\n",
       "<tr>\n",
       "  <th>Prob(Omnibus):</th> <td> 0.000</td>  <th>  Jarque-Bera (JB):  </th> <td>230588.128</td>\n",
       "</tr>\n",
       "<tr>\n",
       "  <th>Skew:</th>          <td> 7.369</td>  <th>  Prob(JB):          </th>  <td>    0.00</td> \n",
       "</tr>\n",
       "<tr>\n",
       "  <th>Kurtosis:</th>      <td>90.301</td>  <th>  Cond. No.          </th>  <td>    2.80</td> \n",
       "</tr>\n",
       "</table><br/><br/>Notes:<br/>[1] Standard Errors assume that the covariance matrix of the errors is correctly specified."
      ],
      "text/plain": [
       "<class 'statsmodels.iolib.summary.Summary'>\n",
       "\"\"\"\n",
       "                             OLS Regression Results                            \n",
       "===============================================================================\n",
       "Dep. Variable:     I(regc1.resid ** 2)   R-squared:                       0.002\n",
       "Model:                             OLS   Adj. R-squared:                  0.000\n",
       "Method:                  Least Squares   F-statistic:                     1.117\n",
       "Date:                 Fri, 19 Nov 2021   Prob (F-statistic):              0.291\n",
       "Time:                         12:20:39   Log-Likelihood:                -10032.\n",
       "No. Observations:                  706   AIC:                         2.007e+04\n",
       "Df Residuals:                      704   BIC:                         2.008e+04\n",
       "Df Model:                            1                                         \n",
       "Covariance Type:             nonrobust                                         \n",
       "==============================================================================\n",
       "                 coef    std err          t      P>|t|      [0.025      0.975]\n",
       "------------------------------------------------------------------------------\n",
       "Intercept   1.894e+05   2.05e+04      9.216      0.000    1.49e+05     2.3e+05\n",
       "male       -2.885e+04   2.73e+04     -1.057      0.291   -8.24e+04    2.47e+04\n",
       "==============================================================================\n",
       "Omnibus:                      982.035   Durbin-Watson:                   2.038\n",
       "Prob(Omnibus):                  0.000   Jarque-Bera (JB):           230588.128\n",
       "Skew:                           7.369   Prob(JB):                         0.00\n",
       "Kurtosis:                      90.301   Cond. No.                         2.80\n",
       "==============================================================================\n",
       "\n",
       "Notes:\n",
       "[1] Standard Errors assume that the covariance matrix of the errors is correctly specified.\n",
       "\"\"\""
      ]
     },
     "execution_count": 39,
     "metadata": {},
     "output_type": "execute_result"
    }
   ],
   "source": [
    "sleep75 = woo.dataWoo('sleep75')\n",
    "\n",
    "regc1 = smf.ols('sleep ~ totwrk + educ + age + I(age**2) + yngkid + male', data=sleep75).fit()\n",
    "smf.ols('I(regc1.resid**2) ~ male',sleep75).fit().summary()\n",
    "\n"
   ]
  },
  {
   "cell_type": "markdown",
   "metadata": {},
   "source": [
    "> The variance is not statistically different for men than for women. The t statistic is not significant at even 20% "
   ]
  },
  {
   "cell_type": "markdown",
   "metadata": {},
   "source": [
    "### 2 \n",
    "Use the data in `HPRICE1` to obtain the heteroskedasticity-robust standard errors for equation\n",
    "\n",
    "$$price = \\beta_0 + \\beta_1*lotsize + \\beta_2*sqrft + \\beta_3*bdrms $$ \n",
    "\n",
    "Discuss any important differences with the usual standard errors. \n",
    "(ii)\tRepeat part (i) for equation \n",
    "$$log(price) = log(lotsize) + log(sqrft) + bdrms$$.\n",
    "(iii)\tWhat does this example suggest about heteroskedasticity and the transformation used for the dependent variable?\n",
    "\n",
    "**Take the log-transform of the dependent variable\n",
    "Taking the log transform of the dependent variable is one of the most commonly used techniques for not only linearizing the dependent variable y but for also 'dampening down' the heteroscedastic variance (if it exists) in y.**\n"
   ]
  },
  {
   "cell_type": "code",
   "execution_count": 41,
   "metadata": {},
   "outputs": [
    {
     "data": {
      "text/html": [
       "<table style=\"text-align:center\"><tr><td colspan=\"3\" style=\"border-bottom: 1px solid black\"></td></tr><tr><td style=\"text-align:left\"></td><td colspan=\"2\"><em>Dependent variable:price</em></td></tr><tr><td style=\"text-align:left\"></td><tr><td style=\"text-align:left\"></td><td>(1)</td><td>(2)</td></tr><tr><td colspan=\"3\" style=\"border-bottom: 1px solid black\"></td></tr><tr><td style=\"text-align:left\">Intercept</td><td>-21.770<sup></sup></td><td>-21.770<sup></sup></td></tr><tr><td style=\"text-align:left\"></td><td>(29.475)</td><td>(41.033)</td></tr><tr><td style=\"text-align:left\">bdrms</td><td>13.853<sup></sup></td><td>13.853<sup></sup></td></tr><tr><td style=\"text-align:left\"></td><td>(9.010)</td><td>(11.562)</td></tr><tr><td style=\"text-align:left\">lotsize</td><td>0.002<sup>***</sup></td><td>0.002<sup></sup></td></tr><tr><td style=\"text-align:left\"></td><td>(0.001)</td><td>(0.007)</td></tr><tr><td style=\"text-align:left\">sqrft</td><td>0.123<sup>***</sup></td><td>0.123<sup>***</sup></td></tr><tr><td style=\"text-align:left\"></td><td>(0.013)</td><td>(0.041)</td></tr><td colspan=\"3\" style=\"border-bottom: 1px solid black\"></td></tr><tr><td style=\"text-align: left\">Observations</td><td>88</td><td>88</td></tr><tr><td style=\"text-align: left\">R<sup>2</sup></td><td>0.672</td><td>0.672</td></tr><tr><td style=\"text-align: left\">Adjusted R<sup>2</sup></td><td>0.661</td><td>0.661</td></tr><tr><td style=\"text-align: left\">Residual Std. Error</td><td>59.833 (df=84)</td><td>59.833 (df=84)</td></tr><tr><td style=\"text-align: left\">F Statistic</td><td>57.460<sup>***</sup> (df=3; 84)</td><td>19.544<sup>***</sup> (df=3; 84)</td></tr><tr><td colspan=\"3\" style=\"border-bottom: 1px solid black\"></td></tr><tr><td style=\"text-align: left\">Note:</td>\n",
       " <td colspan=\"2\" style=\"text-align: right\">\n",
       "  <sup>*</sup>p&lt;0.1;\n",
       "  <sup>**</sup>p&lt;0.05;\n",
       "  <sup>***</sup>p&lt;0.01\n",
       " </td></tr></table>"
      ],
      "text/plain": [
       "<IPython.core.display.HTML object>"
      ]
     },
     "execution_count": 41,
     "metadata": {},
     "output_type": "execute_result"
    }
   ],
   "source": [
    "hprice1 = woo.dataWoo('hprice1')\n",
    "results=smf.ols('price ~ lotsize + sqrft + bdrms', data=hprice1).fit()\n",
    "# Refined White heteroscedasticity-robust SE:\n",
    "results_rob=smf.ols('price ~ lotsize + sqrft + bdrms', data=hprice1).fit(cov_type='HC3')\n",
    "# put all results in stargazer table and \n",
    "models = Stargazer([results, results_rob])\n",
    "#models.covariate_order(['Intercept','female' , 'educ' , 'exper', 'tenure', 'married',])\n",
    "HTML(models.render_html())"
   ]
  },
  {
   "cell_type": "code",
   "execution_count": 42,
   "metadata": {},
   "outputs": [
    {
     "data": {
      "text/html": [
       "<table style=\"text-align:center\"><tr><td colspan=\"3\" style=\"border-bottom: 1px solid black\"></td></tr><tr><td style=\"text-align:left\"></td><td colspan=\"2\"><em>Dependent variable:np.log(price)</em></td></tr><tr><td style=\"text-align:left\"></td><tr><td style=\"text-align:left\"></td><td>(1)</td><td>(2)</td></tr><tr><td colspan=\"3\" style=\"border-bottom: 1px solid black\"></td></tr><tr><td style=\"text-align:left\">Intercept</td><td>-1.297<sup>**</sup></td><td>-1.297<sup></sup></td></tr><tr><td style=\"text-align:left\"></td><td>(0.651)</td><td>(0.850)</td></tr><tr><td style=\"text-align:left\">bdrms</td><td>0.037<sup></sup></td><td>0.037<sup></sup></td></tr><tr><td style=\"text-align:left\"></td><td>(0.028)</td><td>(0.036)</td></tr><tr><td style=\"text-align:left\">np.log(lotsize)</td><td>0.168<sup>***</sup></td><td>0.168<sup>***</sup></td></tr><tr><td style=\"text-align:left\"></td><td>(0.038)</td><td>(0.053)</td></tr><tr><td style=\"text-align:left\">np.log(sqrft)</td><td>0.700<sup>***</sup></td><td>0.700<sup>***</sup></td></tr><tr><td style=\"text-align:left\"></td><td>(0.093)</td><td>(0.121)</td></tr><td colspan=\"3\" style=\"border-bottom: 1px solid black\"></td></tr><tr><td style=\"text-align: left\">Observations</td><td>88</td><td>88</td></tr><tr><td style=\"text-align: left\">R<sup>2</sup></td><td>0.643</td><td>0.643</td></tr><tr><td style=\"text-align: left\">Adjusted R<sup>2</sup></td><td>0.630</td><td>0.630</td></tr><tr><td style=\"text-align: left\">Residual Std. Error</td><td>0.185 (df=84)</td><td>0.185 (df=84)</td></tr><tr><td style=\"text-align: left\">F Statistic</td><td>50.424<sup>***</sup> (df=3; 84)</td><td>44.824<sup>***</sup> (df=3; 84)</td></tr><tr><td colspan=\"3\" style=\"border-bottom: 1px solid black\"></td></tr><tr><td style=\"text-align: left\">Note:</td>\n",
       " <td colspan=\"2\" style=\"text-align: right\">\n",
       "  <sup>*</sup>p&lt;0.1;\n",
       "  <sup>**</sup>p&lt;0.05;\n",
       "  <sup>***</sup>p&lt;0.01\n",
       " </td></tr></table>"
      ],
      "text/plain": [
       "<IPython.core.display.HTML object>"
      ]
     },
     "execution_count": 42,
     "metadata": {},
     "output_type": "execute_result"
    }
   ],
   "source": [
    "resultslog=smf.ols(\"np.log(price)~np.log(lotsize)+np.log(sqrft)+bdrms\", data=hprice1).fit()\n",
    "resultslog_rob=smf.ols(\"np.log(price)~np.log(lotsize)+np.log(sqrft)+bdrms\", data=hprice1).fit(cov_type='HC3')\n",
    "\n",
    "# Refined White heteroscedasticity-robust SE:\n",
    "# put all results in stargazer table and \n",
    "modelslog = Stargazer([resultslog, resultslog_rob])\n",
    "#models.covariate_order(['Intercept','female' , 'educ' , 'exper', 'tenure', 'married',])\n",
    "HTML(modelslog.render_html())"
   ]
  },
  {
   "cell_type": "markdown",
   "metadata": {},
   "source": [
    "&nbsp;\n",
    "<hr />\n",
    "<p style=\"font-family:palatino; text-align: center;font-size: 15px\">ECON320 Python Programming Laboratory</a></p>\n",
    "<p style=\"font-family:palatino; text-align: center;font-size: 15px\">Professor <em> Paloma Lopez de mesa Moyano</em></a></p>\n",
    "<p style=\"font-family:palatino; text-align: center;font-size: 15px\"><span style=\"color: #6666FF;\"><em>paloma.moyano@emory.edu</em></span></p>\n",
    "\n",
    "<p style=\"font-family:palatino; text-align: center;font-size: 15px\">Department of Economics</a></p>\n",
    "<p style=\"font-family:palatino; text-align: center; color: #012169;font-size: 15px\">Emory University</a></p>\n",
    "\n",
    "&nbsp;"
   ]
  }
 ],
 "metadata": {
  "kernelspec": {
   "display_name": "Python 3",
   "language": "python",
   "name": "python3"
  },
  "language_info": {
   "codemirror_mode": {
    "name": "ipython",
    "version": 3
   },
   "file_extension": ".py",
   "mimetype": "text/x-python",
   "name": "python",
   "nbconvert_exporter": "python",
   "pygments_lexer": "ipython3",
   "version": "3.8.8"
  },
  "varInspector": {
   "cols": {
    "lenName": 16,
    "lenType": 16,
    "lenVar": 40
   },
   "kernels_config": {
    "python": {
     "delete_cmd_postfix": "",
     "delete_cmd_prefix": "del ",
     "library": "var_list.py",
     "varRefreshCmd": "print(var_dic_list())"
    },
    "r": {
     "delete_cmd_postfix": ") ",
     "delete_cmd_prefix": "rm(",
     "library": "var_list.r",
     "varRefreshCmd": "cat(var_dic_list()) "
    }
   },
   "types_to_exclude": [
    "module",
    "function",
    "builtin_function_or_method",
    "instance",
    "_Feature"
   ],
   "window_display": false
  }
 },
 "nbformat": 4,
 "nbformat_minor": 4
}
